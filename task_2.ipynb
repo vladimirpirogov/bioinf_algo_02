{
 "cells": [
  {
   "cell_type": "markdown",
   "metadata": {},
   "source": [
    "# Домашнее задание 2\n",
    "\n",
    "Упражнение 2\n",
    "\n"
   ]
  },
  {
   "cell_type": "markdown",
   "metadata": {},
   "source": [
    "Создадим анализируемые последовательности"
   ]
  },
  {
   "cell_type": "code",
   "execution_count": 3,
   "metadata": {},
   "outputs": [],
   "source": [
    "import random"
   ]
  },
  {
   "cell_type": "code",
   "execution_count": 4,
   "metadata": {},
   "outputs": [],
   "source": [
    "def from_seq_to_str (x):\n",
    "    ans = ''\n",
    "    for i in range(len(x)):\n",
    "        ans += x[i]\n",
    "    return ans"
   ]
  },
  {
   "cell_type": "code",
   "execution_count": 17,
   "metadata": {},
   "outputs": [
    {
     "name": "stdout",
     "output_type": "stream",
     "text": [
      "tggagcgtactaag\n",
      "cttaggcctaatag\n"
     ]
    }
   ],
   "source": [
    "k_a = random.randint(10, 15)\n",
    "k_b = random.randint(10, 15)\n",
    "\n",
    "a = from_seq_to_str(random.choices([str('a'), str('c'), str('t'), str('g')],k = k_a))\n",
    "b = from_seq_to_str(random.choices([str('a'), str('c'), str('t'), str('g')],k = k_b))\n",
    "\n",
    "print(a)\n",
    "print(b)"
   ]
  },
  {
   "cell_type": "code",
   "execution_count": 28,
   "metadata": {},
   "outputs": [],
   "source": [
    "def affine_gap_alignment(a, b, match = 1, d = 1, rho = 0, sigma = 1):\n",
    "    length_a = len(a)\n",
    "    length_b = len(b)\n",
    "    s_up = []\n",
    "    s_down = []\n",
    "    s_middle = []\n",
    "    for i in range(length_b + 1):\n",
    "        s_up.append([])\n",
    "        s_down.append([])\n",
    "        s_middle.append([])\n",
    "        for j in range(length_a + 1):\n",
    "            if i == 0:\n",
    "                s_up[i].append(- j * sigma - rho)\n",
    "                s_down[i].append(- j * sigma - rho)\n",
    "                s_middle[i].append(- j * sigma)\n",
    "            elif j == 0:\n",
    "                s_up[i].append(- i * sigma - rho)\n",
    "                s_down[i].append(- i * sigma - rho)\n",
    "                s_middle[i].append(- i * sigma)\n",
    "            else:\n",
    "                s_up[i].append(0)\n",
    "                s_down[i].append(0)\n",
    "                s_middle[i].append(0)\n",
    "\n",
    "\n",
    "    for j in range(1, length_a + 1):\n",
    "        for i in range(1, length_b + 1):\n",
    "            s_up[i][j] = max(s_up[i - 1][j] - sigma,\n",
    "                             s_middle[i - 1][j-1] - (rho + sigma))\n",
    "            s_down[i][j] = max(s_down[i][j - 1] - sigma,\n",
    "                               s_middle[i][j - 1] - (rho + sigma))\n",
    "            if a[j - 1] == b[i - 1]:\n",
    "                add = match\n",
    "            else:\n",
    "                add = -d\n",
    "            s_middle[i][j] = max(s_middle[i - 1][j - 1] + add,\n",
    "                                 s_down[i][j],\n",
    "                                 s_up[i][j])\n",
    "\n",
    "\n",
    "\n",
    "    a_ans = ''\n",
    "    b_ans = ''\n",
    "    max_length = max(length_a, length_b)\n",
    "    cur_a_pos = length_a\n",
    "    cur_b_pos = length_b\n",
    "\n",
    "    while cur_b_pos + cur_a_pos != 0:\n",
    "\n",
    "        # print(cur_a_pos, cur_b_pos)\n",
    "\n",
    "        if a[cur_a_pos - 1] == b[cur_b_pos - 1]:\n",
    "            add = match\n",
    "        else:\n",
    "            add = -d\n",
    "\n",
    "        current_max = max(s_middle[cur_b_pos - 1][cur_a_pos - 1] + add,\n",
    "                          s_down[cur_b_pos][cur_a_pos],\n",
    "                          s_up[cur_b_pos][cur_a_pos])\n",
    "\n",
    "\n",
    "        if (current_max == s_middle[cur_b_pos - 1][cur_a_pos - 1] + add) and (cur_a_pos > 0) and (cur_b_pos > 0 ):\n",
    "            a_ans += a[cur_a_pos - 1]\n",
    "            b_ans += b[cur_b_pos - 1]\n",
    "            cur_a_pos -= 1\n",
    "            cur_b_pos -= 1\n",
    "\n",
    "        elif ((current_max == s_down[cur_b_pos][cur_a_pos]) or (cur_b_pos == 0 )) and (cur_a_pos > 0):\n",
    "            a_ans += a[cur_a_pos - 1]\n",
    "            b_ans += '_'\n",
    "            cur_a_pos -= 1\n",
    "\n",
    "        else:\n",
    "            b_ans += b[cur_b_pos - 1]\n",
    "            a_ans += '_'\n",
    "            cur_b_pos -= 1\n",
    "    return [a_ans[::-1], b_ans[::-1]]"
   ]
  },
  {
   "cell_type": "markdown",
   "metadata": {},
   "source": [
    "проверим, что в случае остусвия штрафа ответ на задачу такой же как и раньше."
   ]
  },
  {
   "cell_type": "code",
   "execution_count": 29,
   "metadata": {},
   "outputs": [],
   "source": [
    "def Global_Alignment_without_mass(a, b, gap = -1 , mismatch = -1, bonus = 1):\n",
    "    length_a = len(a)\n",
    "    length_b = len(b)\n",
    "\n",
    "    s = []\n",
    "\n",
    "    # gap = -1\n",
    "    # mismatch = -1\n",
    "    # bonus = 1\n",
    "\n",
    "\n",
    "    for i in range(length_b + 1):\n",
    "        s.append([])\n",
    "        for j in range(length_a + 1):\n",
    "            if i == 0:\n",
    "                s[i].append(-j)\n",
    "            elif j == 0:\n",
    "                s[i].append(-i)\n",
    "            else:\n",
    "                s[i].append(0)\n",
    "\n",
    "\n",
    "    add = 0\n",
    "    for j in range(1, length_a + 1):\n",
    "        for i in range(1, length_b + 1):\n",
    "            if a[j - 1] == b[i - 1]:\n",
    "                add = bonus\n",
    "            else:\n",
    "                add = mismatch\n",
    "            s[i][j] = max(s[i-1][j-1] + add, s[i][j-1] + gap, s[i-1][j] + gap)\n",
    "\n",
    "\n",
    "    a_ans = ''\n",
    "    b_ans = ''\n",
    "    max_length = max(length_a, length_b)\n",
    "    current_a_possition = length_a\n",
    "    current_b_possition = length_b\n",
    "\n",
    "    while current_b_possition + current_a_possition != 0:\n",
    "\n",
    "        if a[current_a_possition - 1] == b[current_b_possition - 1]:\n",
    "            add = bonus\n",
    "        else:\n",
    "            add = mismatch\n",
    "\n",
    "        current_max = max(s[current_b_possition - 1][current_a_possition - 1] + add,\n",
    "                              s[current_b_possition    ][current_a_possition - 1] + gap,\n",
    "                              s[current_b_possition - 1][current_a_possition]     + gap)\n",
    "\n",
    "        if (current_max == s[current_b_possition - 1][current_a_possition - 1] + add) and (current_a_possition > 0) and (current_b_possition > 0 ):\n",
    "            a_ans += a[current_a_possition - 1]\n",
    "            b_ans += b[current_b_possition - 1]\n",
    "            current_a_possition -= 1\n",
    "            current_b_possition -= 1\n",
    "\n",
    "        elif ((current_max == s[current_b_possition][current_a_possition - 1] + gap) or (current_b_possition == 0)) and (current_a_possition > 0):\n",
    "            a_ans += a[current_a_possition - 1]\n",
    "            b_ans += '_'\n",
    "            current_a_possition -= 1\n",
    "\n",
    "        else:\n",
    "            b_ans += b[current_b_possition - 1]\n",
    "            a_ans += '_'\n",
    "            current_b_possition -= 1\n",
    "\n",
    "\n",
    "    # print(a_ans[::-1], b_ans[::-1])\n",
    "    return([a_ans[::-1], b_ans[::-1]])"
   ]
  },
  {
   "cell_type": "code",
   "execution_count": 30,
   "metadata": {},
   "outputs": [
    {
     "name": "stdout",
     "output_type": "stream",
     "text": [
      "__tggagcgtactaag\n",
      "cttag_gcctaat_ag\n",
      "__tggagcgtactaag\n",
      "cttag_gcctaat_ag\n"
     ]
    }
   ],
   "source": [
    "print(affine_gap_alignment(a, b)[0], affine_gap_alignment(a, b)[1], sep = '\\n')\n",
    "print(Global_Alignment_without_mass(a,b)[0], Global_Alignment_without_mass(a,b)[1], sep = '\\n' )"
   ]
  },
  {
   "cell_type": "markdown",
   "metadata": {},
   "source": [
    "Как видим, результаты сошлись, что приятно"
   ]
  },
  {
   "cell_type": "markdown",
   "metadata": {},
   "source": [
    "А теперь посмотрим, что произойдёт при изменении параметров"
   ]
  },
  {
   "cell_type": "code",
   "execution_count": 31,
   "metadata": {},
   "outputs": [
    {
     "name": "stdout",
     "output_type": "stream",
     "text": [
      "_tggagcgtactaag\n",
      "cttaggcctaat_ag\n"
     ]
    }
   ],
   "source": [
    "print(affine_gap_alignment(a, b, rho = 1)[0], affine_gap_alignment(a, b, rho = 1)[1], sep = '\\n')"
   ]
  },
  {
   "cell_type": "code",
   "execution_count": 32,
   "metadata": {},
   "outputs": [
    {
     "name": "stdout",
     "output_type": "stream",
     "text": [
      "tggagcgtactaag\n",
      "cttaggcctaatag\n"
     ]
    }
   ],
   "source": [
    "print(affine_gap_alignment(a, b, rho = 10)[0], affine_gap_alignment(a, b, rho = 10)[1], sep = '\\n')"
   ]
  },
  {
   "cell_type": "markdown",
   "metadata": {},
   "source": [
    "При повышении цены открытия, алгоритм сначала кластеризует пропуски, а потом просто отказывается от них и ничего не выравнивает"
   ]
  },
  {
   "cell_type": "code",
   "execution_count": null,
   "metadata": {},
   "outputs": [],
   "source": []
  }
 ],
 "metadata": {
  "kernelspec": {
   "display_name": "Python 3",
   "language": "python",
   "name": "python3"
  },
  "language_info": {
   "codemirror_mode": {
    "name": "ipython",
    "version": 3
   },
   "file_extension": ".py",
   "mimetype": "text/x-python",
   "name": "python",
   "nbconvert_exporter": "python",
   "pygments_lexer": "ipython3",
   "version": "3.7.4"
  }
 },
 "nbformat": 4,
 "nbformat_minor": 2
}
