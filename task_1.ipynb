{
 "cells": [
  {
   "cell_type": "markdown",
   "metadata": {},
   "source": [
    "# Домашнее задание 2\n",
    "\n",
    "Упражнение 1\n",
    "\n"
   ]
  },
  {
   "cell_type": "markdown",
   "metadata": {},
   "source": [
    "Создадим анализируемые последовательности"
   ]
  },
  {
   "cell_type": "code",
   "execution_count": 130,
   "metadata": {},
   "outputs": [],
   "source": [
    "import random"
   ]
  },
  {
   "cell_type": "code",
   "execution_count": 131,
   "metadata": {},
   "outputs": [],
   "source": [
    "def from_seq_to_str (x):\n",
    "    ans = ''\n",
    "    for i in range(len(x)):\n",
    "        ans += x[i]\n",
    "    return ans"
   ]
  },
  {
   "cell_type": "code",
   "execution_count": 132,
   "metadata": {},
   "outputs": [
    {
     "name": "stdout",
     "output_type": "stream",
     "text": [
      "gcgatgagtagttattttaaaatgacacccaggctttcagattaggtaaggggcgggtcgc\n",
      "ggaaagtcgagtgccgacataaaatgacttgcccgcctcaataaatgtagagacccaggagtccagaacttacgagaatgacccgttggcg\n"
     ]
    }
   ],
   "source": [
    "k_a = random.randint(25, 95)\n",
    "k_b = random.randint(25, 95)\n",
    "\n",
    "a_f_rand = from_seq_to_str(random.choices([str('a'), str('c'), str('t'), str('g')],k = k_a))\n",
    "b_f_rand = from_seq_to_str(random.choices([str('a'), str('c'), str('t'), str('g')],k = k_b))\n",
    "\n",
    "a_f = 'gggtacccacgatcctcccctatccctcctttcaatcgggcagttatagaactaaagagagccgactaataggccatggcaaaac'\n",
    "b_f = 'gtaggcgtacccacctgagacttaattcgtaggtag'\n",
    "\n",
    "print(a_f_rand)\n",
    "print(b_f_rand)"
   ]
  },
  {
   "cell_type": "markdown",
   "metadata": {},
   "source": [
    "Сначала проверим, что нам показывает новый алгоритм, с матрицей соответствующей предыдущему заданию."
   ]
  },
  {
   "cell_type": "code",
   "execution_count": 133,
   "metadata": {},
   "outputs": [],
   "source": [
    "def max_position(x):\n",
    "    x_l = len(x)\n",
    "    x_l_l = len(x[0])\n",
    "    temp_max = x[0][0]\n",
    "    temp_max_i = 0\n",
    "    temp_max_j = 0\n",
    "    for i in range(x_l):\n",
    "        for j in range(x_l_l):\n",
    "                if x[i][j] > temp_max:\n",
    "                    temp_max = x[i][j]\n",
    "                    temp_max_i = i\n",
    "                    temp_max_j = j\n",
    "    return[temp_max_i, temp_max_j]\n",
    "\n",
    "\n",
    "# print(max_position([[0, -1, -1, -1, -8], [-1, 2, -6, -7, 8], [-1, -6, 3, -8, -3], [-1, -7, -8, 4, 1]]))\n",
    "def delta(a,b):\n",
    "    return abs(len(a)-len(b))\n",
    "\n",
    "\n",
    "def to_ans(ans_a, ans_b, curent, a_str, b_str):\n",
    "   \n",
    "    length_common = len(ans_a)\n",
    "    ans_a = ans_a[::-1]\n",
    "    ans_b = ans_b[::-1]\n",
    "    a__ = ans_a.count('_')\n",
    "    b__ = ans_b.count('_')\n",
    "    ans_a = ans_a + a_str[curent[1]:]\n",
    "    ans_b = ans_b + b_str[curent[0]:]\n",
    "    l= min(ans_a, ans_b, key=len)\n",
    "    if l == ans_a:\n",
    "        ans_a = ans_a + delta(ans_a,ans_b) * '_'\n",
    "    else:\n",
    "        ans_b = ans_b + delta(ans_a, ans_b) * '_'\n",
    "\n",
    "    ans_a = a_str[:curent[1]-length_common + a__] + ans_a\n",
    "    ans_b = b_str[:curent[0]-length_common + b__] + ans_b\n",
    "    l = min(ans_a, ans_b, key=len)\n",
    "    if l == ans_a:\n",
    "        ans_a = delta(ans_a, ans_b) * '_' + ans_a\n",
    "    else:\n",
    "        ans_b = delta(ans_a, ans_b) * '_' + ans_b\n",
    "\n",
    "    return [ans_a, ans_b]"
   ]
  },
  {
   "cell_type": "code",
   "execution_count": 134,
   "metadata": {},
   "outputs": [],
   "source": [
    "def local_alignment(a, b, m, alphabet):\n",
    "    \n",
    "        \n",
    "    length_a = len(a)\n",
    "    length_b = len(b)\n",
    "\n",
    "    s = []\n",
    "\n",
    "    for i in range(length_b + 1):\n",
    "        s.append([])\n",
    "        for j in range(length_a + 1):\n",
    "            if i == 0:\n",
    "                s[i].append(0)\n",
    "            elif j == 0:\n",
    "                s[i].append(0)\n",
    "            else:\n",
    "                s[i].append(0)\n",
    "\n",
    "\n",
    "    for j in range(1, length_a + 1):\n",
    "        for i in range(1, length_b + 1):\n",
    "            s[i][j] = max(s[i-1][j-1] + m[alphabet[a[j-1]]][alphabet[b[i-1]]],\n",
    "                          s[i][j-1] + m[alphabet[a[j-1]]][alphabet['_']],\n",
    "                          s[i-1][j] + m[alphabet['_']][alphabet[b[i-1]]], 0)\n",
    "\n",
    "\n",
    "    cur = max_position(s)\n",
    "    a_ans = ''\n",
    "    b_ans = ''\n",
    "    cur_b_pos = cur[0]\n",
    "    cur_a_pos = cur[1]\n",
    "\n",
    "    \n",
    "    while cur_b_pos + cur_a_pos != 0:\n",
    "\n",
    "        current_max = max(s[cur_b_pos - 1][cur_a_pos - 1] + m[alphabet[a[cur_a_pos - 1]]][alphabet[b[cur_b_pos - 1]]],\n",
    "                          s[cur_b_pos][cur_a_pos - 1] + m[alphabet[a[cur_a_pos - 1]]][alphabet['_']],\n",
    "                          s[cur_b_pos - 1][cur_a_pos] + m[alphabet['_']][alphabet[b[cur_b_pos - 1]]], 0)\n",
    "\n",
    "        if current_max == 0:\n",
    "            return to_ans(a_ans, b_ans, cur, a, b)\n",
    "\n",
    "        if (current_max == s[cur_b_pos - 1][cur_a_pos - 1] + m[alphabet[a[cur_a_pos - 1]]][alphabet[b[cur_b_pos - 1]]]) and (cur_a_pos > 0) and (cur_b_pos > 0 ):\n",
    "            a_ans += a[cur_a_pos - 1]\n",
    "            b_ans += b[cur_b_pos - 1]\n",
    "            cur_a_pos -= 1\n",
    "            cur_b_pos -= 1\n",
    "\n",
    "        elif ((current_max == s[cur_b_pos][cur_a_pos - 1] + m[alphabet[a[cur_a_pos - 1]]][alphabet['_']]) or (cur_b_pos == 0 )) and (cur_a_pos > 0):\n",
    "            a_ans += a[cur_a_pos - 1]\n",
    "            b_ans += '_'\n",
    "            cur_a_pos -= 1\n",
    "\n",
    "        else:\n",
    "            b_ans += b[cur_b_pos - 1]\n",
    "            a_ans += '_'\n",
    "            cur_b_pos -= 1\n",
    "\n",
    "    return to_ans(a_ans, b_ans, cur, a, b)"
   ]
  },
  {
   "cell_type": "markdown",
   "metadata": {},
   "source": [
    "проверим пример, который написан в условии задачи."
   ]
  },
  {
   "cell_type": "code",
   "execution_count": 135,
   "metadata": {},
   "outputs": [
    {
     "name": "stdout",
     "output_type": "stream",
     "text": [
      "___actgag gctact___\n"
     ]
    }
   ],
   "source": [
    "a = 'actgag'\n",
    "b = 'gctact'\n",
    "alphabet = {'_': 0, 'a':1, 'c':2, 't':3, 'g':4}\n",
    "m = [[0, -1, -1, -1, -1],\n",
    "     [-1, 1, -1, -1, -1], \n",
    "     [-1, -1, 1, -1, -1], \n",
    "     [-1, -1, -1, 1, -1], \n",
    "     [-1, -1, -1, -1, 1]]\n",
    "\n",
    "l_a, l_b = local_alignment(a, b, m, alphabet)\n",
    "print(l_a, l_b)"
   ]
  },
  {
   "cell_type": "markdown",
   "metadata": {},
   "source": [
    "Как видим сошлось с ответом."
   ]
  },
  {
   "cell_type": "markdown",
   "metadata": {},
   "source": [
    "Теперь возьмём две заготовленные последовательности, проведём для них глобальное и локальное выравнивание. (Возможно при повтороном запуске не получиться увидеть разницу, но это связано с тем, что я каждый раз генерирую случайные последовательности)"
   ]
  },
  {
   "cell_type": "code",
   "execution_count": 136,
   "metadata": {},
   "outputs": [],
   "source": [
    "def global_alignment(a, b, m, alphabet):\n",
    "\n",
    "    length_a = len(a)\n",
    "    length_b = len(b)\n",
    "\n",
    "    s = []\n",
    "\n",
    "    for i in range(length_b + 1):\n",
    "        s.append([])\n",
    "        for j in range(length_a + 1):\n",
    "            if i == 0:\n",
    "                s[i].append(j*m[0][1])\n",
    "            elif j == 0:\n",
    "                s[i].append(i*m[0][1])\n",
    "            else:\n",
    "                s[i].append(0)\n",
    "\n",
    "\n",
    "    add = 0\n",
    "    for j in range(1, length_a + 1):\n",
    "        for i in range(1, length_b + 1):\n",
    "            s[i][j] = max(s[i-1][j-1] + m[alphabet[a[j-1]]][alphabet[b[i-1]]],\n",
    "                          s[i][j-1] + m[alphabet[a[j-1]]][alphabet['_']],\n",
    "                          s[i-1][j] + m[alphabet['_']][alphabet[b[i-1]]])\n",
    "\n",
    "\n",
    "\n",
    "    a_ans = ''\n",
    "    b_ans = ''\n",
    "    max_length = max(length_a, length_b)\n",
    "    cur_a_pos = length_a\n",
    "    cur_b_pos = length_b\n",
    "\n",
    "    while cur_b_pos + cur_a_pos != 0:\n",
    "\n",
    "        current_max = max(s[cur_b_pos - 1][cur_a_pos - 1] + m[alphabet[a[cur_a_pos - 1]]][alphabet[b[cur_b_pos - 1]]],\n",
    "                          s[cur_b_pos][cur_a_pos - 1] + m[alphabet[a[cur_a_pos - 1]]][alphabet['_']],\n",
    "                          s[cur_b_pos - 1][cur_a_pos] + m[alphabet['_']][alphabet[b[cur_b_pos - 1]]])\n",
    "\n",
    "        if (current_max == s[cur_b_pos - 1][cur_a_pos - 1] + m[alphabet[a[cur_a_pos - 1]]][alphabet[b[cur_b_pos - 1]]]) and (cur_a_pos > 0) and (cur_b_pos > 0 ):\n",
    "            a_ans += a[cur_a_pos - 1]\n",
    "            b_ans += b[cur_b_pos - 1]\n",
    "            cur_a_pos -= 1\n",
    "            cur_b_pos -= 1\n",
    "\n",
    "        elif ((current_max == s[cur_b_pos][cur_a_pos - 1] + m[alphabet[a[cur_a_pos - 1]]][alphabet['_']]) or (cur_b_pos == 0 )) and (cur_a_pos > 0):\n",
    "            a_ans += a[cur_a_pos - 1]\n",
    "            b_ans += '_'\n",
    "            cur_a_pos -= 1\n",
    "\n",
    "        else:\n",
    "            b_ans += b[cur_b_pos - 1]\n",
    "            a_ans += '_'\n",
    "            cur_b_pos -= 1\n",
    "    # print(a_ans[::-1], b_ans[::-1])\n",
    "    return([a_ans[::-1], b_ans[::-1]])\n"
   ]
  },
  {
   "cell_type": "markdown",
   "metadata": {},
   "source": [
    "Теперь проанализируем две заданные последовательности:"
   ]
  },
  {
   "cell_type": "code",
   "execution_count": 137,
   "metadata": {},
   "outputs": [
    {
     "name": "stdout",
     "output_type": "stream",
     "text": [
      "local\n",
      "\n",
      "___gg_gtacccacgatcctcccctatccctcctttcaatcgggcagttatagaactaaagagagccgactaataggccatggcaaaac\n",
      "\n",
      "gtaggcgtacccacctgagacttaattcgtaggtag_____________________________________________________\n",
      "\n",
      "\n",
      "global\n",
      "\n",
      "gggtacccacgatcctcccctatccctcctttcaatcgggcagttatagaactaaagagagccgactaataggccatggcaaaac\n",
      "\n",
      "__gt____a_g______gcgta_____cc___c_a_c___c___t_gag_act___ta_attcg_____tagg___t______ag\n"
     ]
    }
   ],
   "source": [
    "a_f = 'gggtacccacgatcctcccctatccctcctttcaatcgggcagttatagaactaaagagagccgactaataggccatggcaaaac'\n",
    "b_f = 'gtaggcgtacccacctgagacttaattcgtaggtag' \n",
    "\n",
    "alphabet = {'_': 0, 'a':1, 'c':2, 't':3, 'g':4}\n",
    "m = [[0, -1, -1, -1, -1],\n",
    "     [-1, 1, -1, -1, -1], \n",
    "     [-1, -1, 1, -1, -1], \n",
    "     [-1, -1, -1, 1, -1], \n",
    "     [-1, -1, -1, -1, 1]]\n",
    "\n",
    "la_a_f, la_b_f = local_alignment(a_f, b_f, m, alphabet)\n",
    "ga_a_f, ga_b_f = global_alignment(a_f, b_f, m, alphabet)\n",
    "print('local', la_a_f, la_b_f, sep='\\n\\n', end='\\n\\n\\n')\n",
    "print('global', ga_a_f, ga_b_f, sep='\\n\\n')"
   ]
  },
  {
   "cell_type": "markdown",
   "metadata": {},
   "source": [
    "Заметим,что выравнивания значительно отличаются. "
   ]
  },
  {
   "cell_type": "markdown",
   "metadata": {},
   "source": [
    "|   | -  | A  | C  | G  | T  |\n",
    "| - | -  | -  | -  | -  | -  |\n",
    "| - | und| -1 | -1 | -1 | -1 |\n",
    "| A | -1 | 2  | -3 | -2 | -1 |\n",
    "| C | -1 | -3 | 2  | -1 | 2  |\n",
    "| T | -1 | -2 | -1 | 2  | 0  |\n",
    "| G | -1 | -1 | 2  | 0  | 2  |"
   ]
  },
  {
   "cell_type": "markdown",
   "metadata": {},
   "source": [
    "Проверим вторую последовательность, тоже неслучайную."
   ]
  },
  {
   "cell_type": "code",
   "execution_count": 138,
   "metadata": {},
   "outputs": [
    {
     "name": "stdout",
     "output_type": "stream",
     "text": [
      "local\n",
      "\n",
      "ACTTCG_ACT\n",
      "\n",
      "_GATCGAAT_\n",
      "\n",
      "\n",
      "global\n",
      "\n",
      "_ACTTCG_ACT\n",
      "\n",
      "GA__TCGAA_T\n"
     ]
    }
   ],
   "source": [
    "a_f = 'ACTTCGACT'\n",
    "b_f = 'GATCGAAT'\n",
    "\n",
    "alphabet = {'_':0, 'A':1, 'C':2,'G':3, 'T':4}\n",
    "new_m = [[0,  -1, -1, -1, -1, -1], \n",
    "         [-1,  2, -3, -2, -1], \n",
    "         [-1, -3,  2, -1,  2], \n",
    "         [-1, -2, -1,  2,  0], \n",
    "         [-1, -1,  2,  0,  2]]\n",
    "\n",
    "la_a_f, la_b_f = local_alignment(a_f, b_f, new_m, alphabet)\n",
    "ga_a_f, ga_b_f = global_alignment(a_f, b_f, new_m, alphabet)\n",
    "print('local', la_a_f, la_b_f, sep='\\n\\n', end='\\n\\n\\n')\n",
    "print('global', ga_a_f, ga_b_f, sep='\\n\\n')"
   ]
  },
  {
   "cell_type": "markdown",
   "metadata": {},
   "source": [
    "Заметим, что теперь нет проблем ни с первым ни со вторым выравниванием."
   ]
  },
  {
   "cell_type": "markdown",
   "metadata": {},
   "source": [
    "Попробуем поменять матрицу весов для первой из рассматриваемых последовательностей."
   ]
  },
  {
   "cell_type": "markdown",
   "metadata": {},
   "source": [
    "|   | -  | a  | c  | t  | g  |\n",
    "| - | -  | -  | -  | -  | -  |\n",
    "| - | und| -1 | -1 | -1 | -1 |\n",
    "| a | -1 | 2  | -3 | -2 | -1 |\n",
    "| c | -1 | -3 | 2  | -1 | 2  |\n",
    "| t | -1 | -2 | -1 | 2  | 0  |\n",
    "| g | -1 | -1 | 2  | 0  | 2  |"
   ]
  },
  {
   "cell_type": "code",
   "execution_count": 139,
   "metadata": {},
   "outputs": [
    {
     "name": "stdout",
     "output_type": "stream",
     "text": [
      "local\n",
      "\n",
      "gggtacccacgatcctcccctatccct_cctttcaatcggg_cagtt_atagaactaaagag_agccgactaataggccatggcaaaac\n",
      "\n",
      "___________________gtaggcgtacc___c_a_cctgagacttaattc__gt__ag_gtag________________________\n",
      "\n",
      "\n",
      "global\n",
      "\n",
      "gggtacccacgatcctcccctatccctcctttcaatcgggcagttatagaactaaagagagccgactaataggccatggcaaaac\n",
      "\n",
      "__gtaggc_gta_____ccc_a_____cc__tg_a_____gac_t_t__aa_t_______t__c_g___ta__gg_t______ag\n"
     ]
    }
   ],
   "source": [
    "a_f = 'gggtacccacgatcctcccctatccctcctttcaatcgggcagttatagaactaaagagagccgactaataggccatggcaaaac'\n",
    "b_f = 'gtaggcgtacccacctgagacttaattcgtaggtag' \n",
    "\n",
    "alphabet = {'_': 0, 'a':1, 'c':2, 't':3, 'g':4}\n",
    "m = [[0,  -1, -1, -1, -1, -1], \n",
    "         [-1,  2, -3, -2, -1], \n",
    "         [-1, -3,  2, -1,  2], \n",
    "         [-1, -2, -1,  2,  0], \n",
    "         [-1, -1,  2,  0,  2]]\n",
    "\n",
    "la_a_f, la_b_f = local_alignment(a_f, b_f, m, alphabet)\n",
    "ga_a_f, ga_b_f = global_alignment(a_f, b_f, m, alphabet)\n",
    "print('local', la_a_f, la_b_f, sep='\\n\\n', end='\\n\\n\\n')\n",
    "print('global', ga_a_f, ga_b_f, sep='\\n\\n')"
   ]
  },
  {
   "cell_type": "markdown",
   "metadata": {},
   "source": [
    "Обратим внимание, на то что изменилось локальное и глобальное выравнивание."
   ]
  },
  {
   "cell_type": "markdown",
   "metadata": {},
   "source": [
    "Попробуем со случайной последовательностью. "
   ]
  },
  {
   "cell_type": "code",
   "execution_count": 140,
   "metadata": {},
   "outputs": [
    {
     "name": "stdout",
     "output_type": "stream",
     "text": [
      "local\n",
      "\n",
      "_____________gcgatgagt__agtta_tt____t__t__a_aaa__t_gacacccagg_ctttcag_a_ttagg_taaggggcgggtcgc_\n",
      "\n",
      "ggaaagtcgagtgccga_ca_taaaatgacttgcccgcctcaataaatgtagagacccaggag_tccagaacttacgagaatgacccgttggcg\n",
      "\n",
      "\n",
      "global\n",
      "\n",
      "gc_ga_t_gagt____ag_t____t_a_tt____t__t__a_aaa__t_gacacccagg_ctttcag_a_ttagg_taaggggcgggt_cgc\n",
      "\n",
      "ggaaagtcgagtgccgacataaaatgacttgcccgcctcaataaatgtagagacccaggag_tccagaacttacgagaatgacccgttggcg\n"
     ]
    }
   ],
   "source": [
    "alphabet = {'_': 0, 'a':1, 'c':2, 't':3, 'g':4}\n",
    "m = [[0,  -1, -1, -1, -1, -1], \n",
    "         [-1,  2, -3, -2, -1], \n",
    "         [-1, -3,  2, -1,  2], \n",
    "         [-1, -2, -1,  2,  0], \n",
    "         [-1, -1,  2,  0,  2]]\n",
    "\n",
    "la_a_f, la_b_f = local_alignment(a_f_rand, b_f_rand, m, alphabet)\n",
    "ga_a_f, ga_b_f = global_alignment(a_f_rand, b_f_rand, m, alphabet)\n",
    "print('local', la_a_f, la_b_f, sep='\\n\\n', end='\\n\\n\\n')\n",
    "print('global', ga_a_f, ga_b_f, sep='\\n\\n')"
   ]
  },
  {
   "cell_type": "markdown",
   "metadata": {},
   "source": [
    "Проверка длинны."
   ]
  },
  {
   "cell_type": "code",
   "execution_count": 143,
   "metadata": {},
   "outputs": [
    {
     "name": "stdout",
     "output_type": "stream",
     "text": [
      "0\n",
      "0\n"
     ]
    }
   ],
   "source": [
    "print(len(la_a_f) - (len(a_f_rand) + la_a_f.count('_')))\n",
    "print(len(la_b_f) - (len(b_f_rand) + la_b_f.count('_')))"
   ]
  },
  {
   "cell_type": "code",
   "execution_count": null,
   "metadata": {},
   "outputs": [],
   "source": []
  }
 ],
 "metadata": {
  "kernelspec": {
   "display_name": "Python 3",
   "language": "python",
   "name": "python3"
  },
  "language_info": {
   "codemirror_mode": {
    "name": "ipython",
    "version": 3
   },
   "file_extension": ".py",
   "mimetype": "text/x-python",
   "name": "python",
   "nbconvert_exporter": "python",
   "pygments_lexer": "ipython3",
   "version": "3.7.4"
  }
 },
 "nbformat": 4,
 "nbformat_minor": 2
}
